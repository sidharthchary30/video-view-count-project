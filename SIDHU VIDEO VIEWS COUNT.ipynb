{
 "cells": [
  {
   "cell_type": "code",
   "execution_count": 1,
   "id": "dac8ea05",
   "metadata": {},
   "outputs": [
    {
     "name": "stdout",
     "output_type": "stream",
     "text": [
      "views for video1: 4\n"
     ]
    }
   ],
   "source": [
    "#dictionary to store video id\n",
    "#before tracking view counts , you start with an empty dictionary\n",
    "video_views = {}\n",
    "\n",
    "def add_views(video_id , user_id):\n",
    "#the add_views is a costum python function used track and manage unique viwers of a given videos. \n",
    "#checking whether the video_id (e.g., \"video1\") is already in the video_views dictionary.\n",
    "#If it’s not there, the function creates a new entry for that video with an empty set. \n",
    "#The set will eventually store all user IDs who watch the video.\n",
    "    if video_id not in video_views:\n",
    "        video_views[video_id] = set()\n",
    "    video_views[video_id].add(user_id)\n",
    "    \n",
    "#The count_views function calculates how many unique users have viewed a video:\n",
    "\n",
    "def count_views(video_id):\n",
    "    return len(video_views.get(video_id, set()))\n",
    "\n",
    "#trail\n",
    "add_views(\"video1\",\"user1\")\n",
    "add_views(\"video1\",\"user2\")\n",
    "add_views(\"video1\",\"user3\")\n",
    "add_views(\"video1\",\"user2\")\n",
    "add_views(\"video1\",\"user4\")\n",
    "\n",
    "print(f\"views for video1: {count_views('video1')}\")"
   ]
  },
  {
   "cell_type": "code",
   "execution_count": null,
   "id": "c7a024db",
   "metadata": {},
   "outputs": [],
   "source": []
  }
 ],
 "metadata": {
  "kernelspec": {
   "display_name": "Python 3 (ipykernel)",
   "language": "python",
   "name": "python3"
  },
  "language_info": {
   "codemirror_mode": {
    "name": "ipython",
    "version": 3
   },
   "file_extension": ".py",
   "mimetype": "text/x-python",
   "name": "python",
   "nbconvert_exporter": "python",
   "pygments_lexer": "ipython3",
   "version": "3.11.4"
  }
 },
 "nbformat": 4,
 "nbformat_minor": 5
}
